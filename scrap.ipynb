{
 "cells": [
  {
   "cell_type": "code",
   "execution_count": null,
   "metadata": {},
   "outputs": [],
   "source": [
    "# Requisitos necessários para rodar o script\n",
    "!pip install selenium\n",
    "!pip install bs4"
   ]
  },
  {
   "cell_type": "code",
   "execution_count": null,
   "metadata": {},
   "outputs": [],
   "source": [
    "# Import de bibliotecas\n",
    "from selenium import webdriver\n",
    "from bs4 import BeautifulSoup\n",
    "from selenium.webdriver.common.by import By\n",
    "from selenium.webdriver.support.ui import WebDriverWait\n",
    "from selenium.webdriver.chrome.options import Options\n",
    "from selenium.webdriver.support import expected_conditions as EC\n",
    "import time"
   ]
  },
  {
   "cell_type": "code",
   "execution_count": null,
   "metadata": {},
   "outputs": [],
   "source": [
    "# Configura as opções do Chrome para executar em modo headless\n",
    "chrome_options = Options()\n",
    "chrome_options.add_argument('--headless')\n",
    "chrome_options.add_argument('--disable-gpu')  # Necessário se estiver usando o Windows"
   ]
  },
  {
   "cell_type": "code",
   "execution_count": null,
   "metadata": {},
   "outputs": [],
   "source": [
    "# Inicialize o driver do navegador (Chrome)\n",
    "driver = webdriver.Chrome(options=chrome_options)\n",
    "\n",
    "url = 'https://protocolo.ufes.br/#/documentos/4668219/'\n",
    "driver.get(url)\n",
    "\n",
    "# Aguarda um tempo para o conteúdo ser carregado\n",
    "driver.implicitly_wait(10)"
   ]
  },
  {
   "cell_type": "code",
   "execution_count": null,
   "metadata": {},
   "outputs": [],
   "source": [
    "# Mostra código fonte da página\n",
    "time.sleep(2)"
   ]
  },
  {
   "cell_type": "code",
   "execution_count": null,
   "metadata": {},
   "outputs": [],
   "source": [
    "content = driver.page_source\n",
    "soup = BeautifulSoup(content, 'html.parser')\n",
    "print(content)"
   ]
  },
  {
   "cell_type": "code",
   "execution_count": null,
   "metadata": {},
   "outputs": [],
   "source": [
    "titulo_elements = soup.find_all('div', class_='v-toolbar__title')\n",
    "\n",
    "for titulo_element in titulo_elements:\n",
    "    titulo_text = titulo_element.get_text(strip=True)\n",
    "    print(\"Texto encontrado:\", titulo_text)"
   ]
  },
  {
   "cell_type": "code",
   "execution_count": null,
   "metadata": {},
   "outputs": [],
   "source": [
    "titulo = titulo_element.get_text()\n",
    "titulo"
   ]
  },
  {
   "cell_type": "code",
   "execution_count": null,
   "metadata": {},
   "outputs": [],
   "source": [
    "linhas = [linha.strip() for linha in titulo.split('\\n') if linha.strip()]\n",
    "\n",
    "if len(linhas) >= 2:\n",
    "    tipo_documento = linhas[0]\n",
    "    numero_processo = linhas[1]\n",
    "\n",
    "    print(\"Tipo de documento:\", tipo_documento)\n",
    "    print(\"Número do processo:\", numero_processo)\n",
    "else:\n",
    "    print(\"Texto não possui informações suficientes para separar.\")"
   ]
  },
  {
   "cell_type": "code",
   "execution_count": null,
   "metadata": {},
   "outputs": [],
   "source": [
    "wait = WebDriverWait(driver, 10)"
   ]
  },
  {
   "cell_type": "code",
   "execution_count": null,
   "metadata": {},
   "outputs": [],
   "source": [
    "textarea_interested = wait.until(EC.visibility_of_element_located((By.CSS_SELECTOR, \"textarea[aria-label='Interessado']\")))\n",
    "\n",
    "# Capturar o conteúdo do <textarea>\n",
    "interessado_text = textarea_interested.get_attribute('value')\n",
    "\n",
    "print(interessado_text)"
   ]
  },
  {
   "cell_type": "code",
   "execution_count": null,
   "metadata": {},
   "outputs": [],
   "source": [
    "textarea_summary = wait.until(EC.visibility_of_element_located((By.CSS_SELECTOR, \"textarea[aria-label='Resumo']\")))\n",
    "\n",
    "# Capturar o conteúdo do <textarea>\n",
    "resumo_text = textarea_summary.get_attribute('value')\n",
    "\n",
    "print(resumo_text)"
   ]
  },
  {
   "cell_type": "code",
   "execution_count": null,
   "metadata": {},
   "outputs": [],
   "source": [
    "# Fecha a primeira página\n",
    "driver.quit()"
   ]
  },
  {
   "cell_type": "code",
   "execution_count": null,
   "metadata": {},
   "outputs": [],
   "source": [
    "# Inicializa a segunda página (Chrome)\n",
    "driver = webdriver.Chrome(options=chrome_options)\n",
    "\n",
    "url_tramitacoes = url+'tramitacoes'\n",
    "driver.get(url_tramitacoes)\n",
    "\n",
    "# Aguarda um tempo para o conteúdo ser carregado\n",
    "driver.implicitly_wait(10)"
   ]
  },
  {
   "cell_type": "code",
   "execution_count": null,
   "metadata": {},
   "outputs": [],
   "source": [
    "content = driver.page_source\n",
    "print(content)"
   ]
  },
  {
   "cell_type": "code",
   "execution_count": null,
   "metadata": {},
   "outputs": [],
   "source": [
    "# Localiza o elemento <tr class=\"pointer\">\n",
    "tr_element = driver.find_element(By.CLASS_NAME, 'pointer')\n",
    "\n",
    "# Clica no elemento\n",
    "tr_element.click()"
   ]
  },
  {
   "cell_type": "code",
   "execution_count": null,
   "metadata": {},
   "outputs": [],
   "source": [
    "wait = WebDriverWait(driver, 10)\n",
    "textarea_despatch = wait.until(EC.visibility_of_element_located((By.CSS_SELECTOR, \"textarea[aria-label='Despacho']\")))\n",
    "\n",
    "# Capturar o conteúdo do <textarea>\n",
    "despacho_text = textarea_despatch.get_attribute('value')\n",
    "\n",
    "print(despacho_text)"
   ]
  },
  {
   "cell_type": "code",
   "execution_count": null,
   "metadata": {},
   "outputs": [],
   "source": [
    "partes = despacho_text.split('\\n\\n')\n",
    "despacho = partes[0]"
   ]
  }
 ],
 "metadata": {
  "kernelspec": {
   "display_name": "Python 3",
   "language": "python",
   "name": "python3"
  },
  "language_info": {
   "codemirror_mode": {
    "name": "ipython",
    "version": 3
   },
   "file_extension": ".py",
   "mimetype": "text/x-python",
   "name": "python",
   "nbconvert_exporter": "python",
   "pygments_lexer": "ipython3",
   "version": "3.11.4"
  },
  "orig_nbformat": 4
 },
 "nbformat": 4,
 "nbformat_minor": 2
}
